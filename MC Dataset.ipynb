{
 "cells": [
  {
   "cell_type": "code",
   "execution_count": 2,
   "metadata": {},
   "outputs": [],
   "source": [
    "import pandas as pd\n",
    "import warnings\n",
    "warnings.filterwarnings(\"ignore\")"
   ]
  },
  {
   "cell_type": "code",
   "execution_count": 85,
   "metadata": {},
   "outputs": [],
   "source": [
    "import numpy as np"
   ]
  },
  {
   "cell_type": "code",
   "execution_count": 30,
   "metadata": {},
   "outputs": [],
   "source": [
    "df=pd.read_csv(\"fdee01d00ca36128.txt\",sep=\" \",skiprows=1,header=None)"
   ]
  },
  {
   "cell_type": "code",
   "execution_count": 37,
   "metadata": {},
   "outputs": [
    {
     "data": {
      "text/html": [
       "<div>\n",
       "<style scoped>\n",
       "    .dataframe tbody tr th:only-of-type {\n",
       "        vertical-align: middle;\n",
       "    }\n",
       "\n",
       "    .dataframe tbody tr th {\n",
       "        vertical-align: top;\n",
       "    }\n",
       "\n",
       "    .dataframe thead th {\n",
       "        text-align: right;\n",
       "    }\n",
       "</style>\n",
       "<table border=\"1\" class=\"dataframe\">\n",
       "  <thead>\n",
       "    <tr style=\"text-align: right;\">\n",
       "      <th></th>\n",
       "      <th>0</th>\n",
       "      <th>1</th>\n",
       "      <th>2</th>\n",
       "      <th>3</th>\n",
       "      <th>4</th>\n",
       "      <th>5</th>\n",
       "      <th>6</th>\n",
       "      <th>7</th>\n",
       "      <th>8</th>\n",
       "      <th>9</th>\n",
       "      <th>10</th>\n",
       "      <th>11</th>\n",
       "      <th>12</th>\n",
       "      <th>13</th>\n",
       "      <th>14</th>\n",
       "      <th>15</th>\n",
       "      <th>16</th>\n",
       "      <th>17</th>\n",
       "      <th>18</th>\n",
       "    </tr>\n",
       "  </thead>\n",
       "  <tbody>\n",
       "    <tr>\n",
       "      <th>0</th>\n",
       "      <td>150884067</td>\n",
       "      <td>0.829795</td>\n",
       "      <td>1.494091</td>\n",
       "      <td>0.5</td>\n",
       "      <td>0.5</td>\n",
       "      <td>0.0</td>\n",
       "      <td>0.0</td>\n",
       "      <td>0.996535</td>\n",
       "      <td>0.057820</td>\n",
       "      <td>-0.059796</td>\n",
       "      <td>-6.73541</td>\n",
       "      <td>-0.060304</td>\n",
       "      <td>0.997353</td>\n",
       "      <td>-0.040613</td>\n",
       "      <td>0.246234</td>\n",
       "      <td>0.057290</td>\n",
       "      <td>0.044078</td>\n",
       "      <td>0.997384</td>\n",
       "      <td>-0.428180</td>\n",
       "    </tr>\n",
       "    <tr>\n",
       "      <th>1</th>\n",
       "      <td>150950800</td>\n",
       "      <td>0.829795</td>\n",
       "      <td>1.494091</td>\n",
       "      <td>0.5</td>\n",
       "      <td>0.5</td>\n",
       "      <td>0.0</td>\n",
       "      <td>0.0</td>\n",
       "      <td>0.994712</td>\n",
       "      <td>0.062942</td>\n",
       "      <td>-0.081152</td>\n",
       "      <td>-5.99668</td>\n",
       "      <td>-0.066561</td>\n",
       "      <td>0.996869</td>\n",
       "      <td>-0.042678</td>\n",
       "      <td>0.281351</td>\n",
       "      <td>0.078212</td>\n",
       "      <td>0.047854</td>\n",
       "      <td>0.995788</td>\n",
       "      <td>-0.537408</td>\n",
       "    </tr>\n",
       "    <tr>\n",
       "      <th>2</th>\n",
       "      <td>151017533</td>\n",
       "      <td>0.829795</td>\n",
       "      <td>1.494091</td>\n",
       "      <td>0.5</td>\n",
       "      <td>0.5</td>\n",
       "      <td>0.0</td>\n",
       "      <td>0.0</td>\n",
       "      <td>0.991301</td>\n",
       "      <td>0.072027</td>\n",
       "      <td>-0.110155</td>\n",
       "      <td>-5.18344</td>\n",
       "      <td>-0.077445</td>\n",
       "      <td>0.995948</td>\n",
       "      <td>-0.045719</td>\n",
       "      <td>0.323530</td>\n",
       "      <td>0.106416</td>\n",
       "      <td>0.053852</td>\n",
       "      <td>0.992862</td>\n",
       "      <td>-0.714818</td>\n",
       "    </tr>\n",
       "    <tr>\n",
       "      <th>3</th>\n",
       "      <td>151084267</td>\n",
       "      <td>0.829795</td>\n",
       "      <td>1.494091</td>\n",
       "      <td>0.5</td>\n",
       "      <td>0.5</td>\n",
       "      <td>0.0</td>\n",
       "      <td>0.0</td>\n",
       "      <td>0.986599</td>\n",
       "      <td>0.084199</td>\n",
       "      <td>-0.139759</td>\n",
       "      <td>-4.38414</td>\n",
       "      <td>-0.091442</td>\n",
       "      <td>0.994737</td>\n",
       "      <td>-0.046231</td>\n",
       "      <td>0.320558</td>\n",
       "      <td>0.135131</td>\n",
       "      <td>0.058391</td>\n",
       "      <td>0.989106</td>\n",
       "      <td>-0.857362</td>\n",
       "    </tr>\n",
       "    <tr>\n",
       "      <th>4</th>\n",
       "      <td>151151000</td>\n",
       "      <td>0.829795</td>\n",
       "      <td>1.494091</td>\n",
       "      <td>0.5</td>\n",
       "      <td>0.5</td>\n",
       "      <td>0.0</td>\n",
       "      <td>0.0</td>\n",
       "      <td>0.981037</td>\n",
       "      <td>0.100650</td>\n",
       "      <td>-0.165639</td>\n",
       "      <td>-3.52676</td>\n",
       "      <td>-0.109464</td>\n",
       "      <td>0.992974</td>\n",
       "      <td>-0.044951</td>\n",
       "      <td>0.325122</td>\n",
       "      <td>0.159951</td>\n",
       "      <td>0.062230</td>\n",
       "      <td>0.985161</td>\n",
       "      <td>-0.921846</td>\n",
       "    </tr>\n",
       "  </tbody>\n",
       "</table>\n",
       "</div>"
      ],
      "text/plain": [
       "          0         1         2    3    4    5    6         7         8   \\\n",
       "0  150884067  0.829795  1.494091  0.5  0.5  0.0  0.0  0.996535  0.057820   \n",
       "1  150950800  0.829795  1.494091  0.5  0.5  0.0  0.0  0.994712  0.062942   \n",
       "2  151017533  0.829795  1.494091  0.5  0.5  0.0  0.0  0.991301  0.072027   \n",
       "3  151084267  0.829795  1.494091  0.5  0.5  0.0  0.0  0.986599  0.084199   \n",
       "4  151151000  0.829795  1.494091  0.5  0.5  0.0  0.0  0.981037  0.100650   \n",
       "\n",
       "         9        10        11        12        13        14        15  \\\n",
       "0 -0.059796 -6.73541 -0.060304  0.997353 -0.040613  0.246234  0.057290   \n",
       "1 -0.081152 -5.99668 -0.066561  0.996869 -0.042678  0.281351  0.078212   \n",
       "2 -0.110155 -5.18344 -0.077445  0.995948 -0.045719  0.323530  0.106416   \n",
       "3 -0.139759 -4.38414 -0.091442  0.994737 -0.046231  0.320558  0.135131   \n",
       "4 -0.165639 -3.52676 -0.109464  0.992974 -0.044951  0.325122  0.159951   \n",
       "\n",
       "         16        17        18  \n",
       "0  0.044078  0.997384 -0.428180  \n",
       "1  0.047854  0.995788 -0.537408  \n",
       "2  0.053852  0.992862 -0.714818  \n",
       "3  0.058391  0.989106 -0.857362  \n",
       "4  0.062230  0.985161 -0.921846  "
      ]
     },
     "execution_count": 37,
     "metadata": {},
     "output_type": "execute_result"
    }
   ],
   "source": [
    "df.head()"
   ]
  },
  {
   "cell_type": "code",
   "execution_count": 86,
   "metadata": {},
   "outputs": [
    {
     "data": {
      "text/plain": [
       "array([150884067, 150950800, 151017533, 151084267, 151151000, 151217733,\n",
       "       151284467, 151351200, 151417933, 151484667, 151551400, 151618133,\n",
       "       151684867, 151751600, 151818333, 151885067, 151951800])"
      ]
     },
     "execution_count": 86,
     "metadata": {},
     "output_type": "execute_result"
    }
   ],
   "source": [
    "np.array(df.iloc[:][0])"
   ]
  },
  {
   "cell_type": "code",
   "execution_count": 22,
   "metadata": {},
   "outputs": [
    {
     "name": "stdout",
     "output_type": "stream",
     "text": [
      "https://www.youtube.com/watch?v=XouFtZdnG_Q\n",
      "\n"
     ]
    }
   ],
   "source": [
    "with open('fdee01d00ca36128.txt', 'r') as f:\n",
    "    print(f.readline())"
   ]
  },
  {
   "cell_type": "code",
   "execution_count": 32,
   "metadata": {},
   "outputs": [
    {
     "name": "stdout",
     "output_type": "stream",
     "text": [
      "--2020-08-10 14:46:25--  https://storage.googleapis.com/mannequinchallenge-data/MannequinChallenge.tar\n",
      "Resolving storage.googleapis.com (storage.googleapis.com)... 173.194.192.128, 172.217.212.128, 172.217.214.128, ...\n",
      "Connecting to storage.googleapis.com (storage.googleapis.com)|173.194.192.128|:443... connected.\n",
      "HTTP request sent, awaiting response... 200 OK\n",
      "Length: 41492480 (40M) [application/x-tar]\n",
      "Saving to: ‘MannequinChallenge.tar’\n",
      "\n",
      "MannequinChallenge. 100%[===================>]  39.57M  95.3MB/s    in 0.4s    \n",
      "\n",
      "2020-08-10 14:46:26 (95.3 MB/s) - ‘MannequinChallenge.tar’ saved [41492480/41492480]\n",
      "\n"
     ]
    }
   ],
   "source": [
    "!wget https://storage.googleapis.com/mannequinchallenge-data/MannequinChallenge.tar"
   ]
  },
  {
   "cell_type": "code",
   "execution_count": 33,
   "metadata": {},
   "outputs": [
    {
     "name": "stdout",
     "output_type": "stream",
     "text": [
      "\n",
      "7-Zip [64] 16.02 : Copyright (c) 1999-2016 Igor Pavlov : 2016-05-21\n",
      "p7zip Version 16.02 (locale=C.UTF-8,Utf16=on,HugeFiles=on,64 bits,4 CPUs Intel(R) Xeon(R) CPU @ 2.30GHz (306F0),ASM,AES-NI)\n",
      "\n",
      "Scanning the drive for archives:\n",
      "  0M Sca        1 file, 41492480 bytes (40 MiB)\n",
      "\n",
      "Extracting archive: MannequinChallenge.tar\n",
      " 30% 1024 Op            --\n",
      "Path = MannequinChallenge.tar\n",
      "Type = tar\n",
      "Physical Size = 41492480\n",
      "Headers Size = 1809408\n",
      "Code Page = UTF-8\n",
      "\n",
      " 9   18% 636 - MannequinChallenge/train/7009621efa6c737d.t                                                       35% 1177 - MannequinChallenge/train/2579b23dbd4ec09c.tx                                                         48% 1610 - MannequinChallenge/train/9277a204941d74ac.tx                                                         58% 1952 - MannequinChallenge/train/f2e0519f09c88390.tx                                                         67% 2245 - MannequinChallenge/train/a164e57c2023ccaf.tx                                                         74% 2506 - MannequinChallenge/train/3e02be1f0ed4d803.tx                                                         91% 3244 - MannequinChallenge/test/6386daa4f8339588.t                                                      Everything is Ok\n",
      "\n",
      "Folders: 4\n",
      "Files: 3525\n",
      "Size:       38788215\n",
      "Compressed: 41492480\n"
     ]
    }
   ],
   "source": [
    "!7z x MannequinChallenge.tar -o\"dataset\""
   ]
  },
  {
   "cell_type": "code",
   "execution_count": 34,
   "metadata": {},
   "outputs": [],
   "source": [
    "!rm MannequinChallenge.tar"
   ]
  },
  {
   "cell_type": "code",
   "execution_count": 40,
   "metadata": {},
   "outputs": [],
   "source": [
    "from pytube import YouTube\n",
    "# misc\n",
    "import os\n",
    "import shutil\n",
    "import math\n",
    "import datetime\n",
    "# plots\n",
    "import matplotlib.pyplot as plt\n",
    "%matplotlib inline\n",
    "# image operation\n",
    "import cv2"
   ]
  },
  {
   "cell_type": "code",
   "execution_count": 41,
   "metadata": {},
   "outputs": [],
   "source": [
    "video = YouTube('https://www.youtube.com/watch?v=XouFtZdnG_Q')"
   ]
  },
  {
   "cell_type": "code",
   "execution_count": 44,
   "metadata": {},
   "outputs": [
    {
     "data": {
      "text/plain": [
       "[<Stream: itag=\"18\" mime_type=\"video/mp4\" res=\"360p\" fps=\"30fps\" vcodec=\"avc1.42001E\" acodec=\"mp4a.40.2\" progressive=\"True\" type=\"video\">, <Stream: itag=\"22\" mime_type=\"video/mp4\" res=\"720p\" fps=\"30fps\" vcodec=\"avc1.64001F\" acodec=\"mp4a.40.2\" progressive=\"True\" type=\"video\">, <Stream: itag=\"137\" mime_type=\"video/mp4\" res=\"1080p\" fps=\"30fps\" vcodec=\"avc1.640028\" progressive=\"False\" type=\"video\">, <Stream: itag=\"248\" mime_type=\"video/webm\" res=\"1080p\" fps=\"30fps\" vcodec=\"vp9\" progressive=\"False\" type=\"video\">, <Stream: itag=\"136\" mime_type=\"video/mp4\" res=\"720p\" fps=\"30fps\" vcodec=\"avc1.4d4016\" progressive=\"False\" type=\"video\">, <Stream: itag=\"247\" mime_type=\"video/webm\" res=\"720p\" fps=\"30fps\" vcodec=\"vp9\" progressive=\"False\" type=\"video\">, <Stream: itag=\"135\" mime_type=\"video/mp4\" res=\"480p\" fps=\"30fps\" vcodec=\"avc1.4d4014\" progressive=\"False\" type=\"video\">, <Stream: itag=\"244\" mime_type=\"video/webm\" res=\"480p\" fps=\"30fps\" vcodec=\"vp9\" progressive=\"False\" type=\"video\">, <Stream: itag=\"134\" mime_type=\"video/mp4\" res=\"360p\" fps=\"30fps\" vcodec=\"avc1.4d401e\" progressive=\"False\" type=\"video\">, <Stream: itag=\"243\" mime_type=\"video/webm\" res=\"360p\" fps=\"30fps\" vcodec=\"vp9\" progressive=\"False\" type=\"video\">, <Stream: itag=\"133\" mime_type=\"video/mp4\" res=\"240p\" fps=\"30fps\" vcodec=\"avc1.4d400c\" progressive=\"False\" type=\"video\">, <Stream: itag=\"242\" mime_type=\"video/webm\" res=\"240p\" fps=\"30fps\" vcodec=\"vp9\" progressive=\"False\" type=\"video\">, <Stream: itag=\"160\" mime_type=\"video/mp4\" res=\"144p\" fps=\"30fps\" vcodec=\"avc1.4d400b\" progressive=\"False\" type=\"video\">, <Stream: itag=\"278\" mime_type=\"video/webm\" res=\"144p\" fps=\"30fps\" vcodec=\"vp9\" progressive=\"False\" type=\"video\">, <Stream: itag=\"140\" mime_type=\"audio/mp4\" abr=\"128kbps\" acodec=\"mp4a.40.2\" progressive=\"False\" type=\"audio\">, <Stream: itag=\"251\" mime_type=\"audio/webm\" abr=\"160kbps\" acodec=\"opus\" progressive=\"False\" type=\"audio\">]"
      ]
     },
     "execution_count": 44,
     "metadata": {},
     "output_type": "execute_result"
    }
   ],
   "source": [
    "video.streams"
   ]
  },
  {
   "cell_type": "code",
   "execution_count": 45,
   "metadata": {},
   "outputs": [
    {
     "data": {
      "text/plain": [
       "[<Stream: itag=\"18\" mime_type=\"video/mp4\" res=\"360p\" fps=\"30fps\" vcodec=\"avc1.42001E\" acodec=\"mp4a.40.2\" progressive=\"True\" type=\"video\">, <Stream: itag=\"22\" mime_type=\"video/mp4\" res=\"720p\" fps=\"30fps\" vcodec=\"avc1.64001F\" acodec=\"mp4a.40.2\" progressive=\"True\" type=\"video\">, <Stream: itag=\"137\" mime_type=\"video/mp4\" res=\"1080p\" fps=\"30fps\" vcodec=\"avc1.640028\" progressive=\"False\" type=\"video\">, <Stream: itag=\"136\" mime_type=\"video/mp4\" res=\"720p\" fps=\"30fps\" vcodec=\"avc1.4d4016\" progressive=\"False\" type=\"video\">, <Stream: itag=\"135\" mime_type=\"video/mp4\" res=\"480p\" fps=\"30fps\" vcodec=\"avc1.4d4014\" progressive=\"False\" type=\"video\">, <Stream: itag=\"134\" mime_type=\"video/mp4\" res=\"360p\" fps=\"30fps\" vcodec=\"avc1.4d401e\" progressive=\"False\" type=\"video\">, <Stream: itag=\"133\" mime_type=\"video/mp4\" res=\"240p\" fps=\"30fps\" vcodec=\"avc1.4d400c\" progressive=\"False\" type=\"video\">, <Stream: itag=\"160\" mime_type=\"video/mp4\" res=\"144p\" fps=\"30fps\" vcodec=\"avc1.4d400b\" progressive=\"False\" type=\"video\">, <Stream: itag=\"140\" mime_type=\"audio/mp4\" abr=\"128kbps\" acodec=\"mp4a.40.2\" progressive=\"False\" type=\"audio\">]"
      ]
     },
     "execution_count": 45,
     "metadata": {},
     "output_type": "execute_result"
    }
   ],
   "source": [
    "video.streams.filter(file_extension = \"mp4\")"
   ]
  },
  {
   "cell_type": "code",
   "execution_count": 80,
   "metadata": {},
   "outputs": [
    {
     "data": {
      "text/plain": [
       "'/home/rath772k/2dtodepth/2dtodepth/go1.mp4'"
      ]
     },
     "execution_count": 80,
     "metadata": {},
     "output_type": "execute_result"
    }
   ],
   "source": [
    "video.streams.get_by_itag(18).download(filename=\"go1\",skip_existing=False)"
   ]
  },
  {
   "cell_type": "code",
   "execution_count": 58,
   "metadata": {},
   "outputs": [],
   "source": [
    "class FrameExtractor():\n",
    "    '''\n",
    "    Class used for extracting frames from a video file.\n",
    "    '''\n",
    "    def __init__(self, video_path):\n",
    "        self.video_path = video_path\n",
    "        self.vid_cap = cv2.VideoCapture(video_path)\n",
    "        self.n_frames = int(self.vid_cap.get(cv2.CAP_PROP_FRAME_COUNT))\n",
    "        self.fps = int(self.vid_cap.get(cv2.CAP_PROP_FPS))\n",
    "        \n",
    "    def get_video_duration(self):\n",
    "        duration = self.n_frames/self.fps\n",
    "        print(f'Duration: {datetime.timedelta(seconds=duration)}')\n",
    "        \n",
    "    def get_n_images(self, every_x_frame):\n",
    "        n_images = math.floor(self.n_frames / every_x_frame) + 1\n",
    "        print(f'Extracting every {every_x_frame} (nd/rd/th) frame would result in {n_images} images.')\n",
    "        \n",
    "    def extract_frames(self, timestamps, img_name, dest_path=None, img_ext = '.jpeg'):\n",
    "        if not self.vid_cap.isOpened():\n",
    "            self.vid_cap = cv2.VideoCapture(self.video_path)\n",
    "        \n",
    "        if dest_path is None:\n",
    "            dest_path = os.getcwd()\n",
    "        else:\n",
    "            if not os.path.isdir(dest_path):\n",
    "                os.mkdir(dest_path)\n",
    "                print(f'Created the following directory: {dest_path}')\n",
    "        \n",
    "        maxx = len(timestamps)\n",
    "        frame_cnt = 0\n",
    "        img_cnt = 0\n",
    "        every = 1/self.fps*1e6\n",
    "        \n",
    "        while self.vid_cap.isOpened() and img_cnt < maxx:\n",
    "            \n",
    "            success,image = self.vid_cap.read() \n",
    "            \n",
    "            if not success:\n",
    "                break\n",
    "            \n",
    "            if frame_cnt*every > timestamps[img_cnt]:\n",
    "                img_path = os.path.join(dest_path, ''.join([img_name, '_', str(img_cnt), img_ext]))\n",
    "                cv2.imwrite(img_path, image)  \n",
    "                img_cnt += 1\n",
    "                \n",
    "            frame_cnt += 1\n",
    "        \n",
    "        self.vid_cap.release()\n",
    "        cv2.destroyAllWindows()"
   ]
  },
  {
   "cell_type": "code",
   "execution_count": 59,
   "metadata": {},
   "outputs": [],
   "source": [
    "fe = FrameExtractor(\"Wax Museum Mannequin Challenge.mp4\")"
   ]
  },
  {
   "cell_type": "code",
   "execution_count": 60,
   "metadata": {},
   "outputs": [
    {
     "name": "stdout",
     "output_type": "stream",
     "text": [
      "Duration: 0:04:04.206897\n"
     ]
    }
   ],
   "source": [
    "fe.get_video_duration()"
   ]
  },
  {
   "cell_type": "code",
   "execution_count": 65,
   "metadata": {},
   "outputs": [],
   "source": [
    "fe.extract_frames(timestamps=[150884067,150950800], \n",
    "                  img_name='megaman', \n",
    "                  dest_path='megaman_images')"
   ]
  },
  {
   "cell_type": "code",
   "execution_count": 69,
   "metadata": {},
   "outputs": [
    {
     "data": {
      "image/png": "[encoded data removed]",
      "text/plain": [
       "<Figure size 432x288 with 1 Axes>"
      ]
     },
     "metadata": {
      "needs_background": "light"
     },
     "output_type": "display_data"
    }
   ],
   "source": [
    "def show_image(path):\n",
    "    image = plt.imread(path)\n",
    "    plt.imshow(image)\n",
    "    plt.show()\n",
    "show_image('megaman_images/megaman_0.jpeg')"
   ]
  },
  {
   "cell_type": "code",
   "execution_count": 81,
   "metadata": {},
   "outputs": [],
   "source": [
    "import os\n",
    "import glob"
   ]
  },
  {
   "cell_type": "code",
   "execution_count": 92,
   "metadata": {},
   "outputs": [],
   "source": [
    "path = \"/home/rath772k/2dtodepth/2dtodepth/MannequinChallenge/train/*.txt\""
   ]
  },
  {
   "cell_type": "code",
   "execution_count": 96,
   "metadata": {},
   "outputs": [],
   "source": [
    "now = 0\n",
    "for file in glob.glob(path):\n",
    "    df=pd.read_csv(file,sep=\" \",skiprows=1,header=None)\n",
    "    timestamps = np.array(df.iloc[:][0])\n",
    "    f = open(file, 'r')\n",
    "    line = f.readline()\n",
    "    try:\n",
    "        video = YouTube(line)\n",
    "    except:\n",
    "        continue\n",
    "    video.streams.get_by_itag(18).download(filename=\"go\",skip_existing=False)\n",
    "    fe = FrameExtractor(\"go.mp4\")\n",
    "    fe.extract_frames(timestamps=timestamps, \n",
    "                  img_name='img_'+str(now), \n",
    "                  dest_path='infile')\n",
    "    now += 1"
   ]
  },
  {
   "cell_type": "code",
   "execution_count": 110,
   "metadata": {},
   "outputs": [],
   "source": [
    "path = \"/home/rath772k/2dtodepth/2dtodepth/infile/*.jpeg\""
   ]
  },
  {
   "cell_type": "code",
   "execution_count": 111,
   "metadata": {},
   "outputs": [],
   "source": [
    "ip=[]\n",
    "op=[]\n",
    "for file in glob.glob(path):\n",
    "    ip.append(file)"
   ]
  },
  {
   "cell_type": "code",
   "execution_count": 112,
   "metadata": {},
   "outputs": [],
   "source": [
    "path = \"/home/rath772k/2dtodepth/2dtodepth/outfile/*.jpeg\""
   ]
  },
  {
   "cell_type": "code",
   "execution_count": 113,
   "metadata": {},
   "outputs": [],
   "source": [
    "for file in glob.glob(path):\n",
    "    op.append(file)"
   ]
  },
  {
   "cell_type": "code",
   "execution_count": 114,
   "metadata": {},
   "outputs": [],
   "source": [
    "data = pd.DataFrame(list(zip(ip, op)), \n",
    "               columns =['image', 'map'])"
   ]
  },
  {
   "cell_type": "code",
   "execution_count": 115,
   "metadata": {},
   "outputs": [
    {
     "data": {
      "text/html": [
       "<div>\n",
       "<style scoped>\n",
       "    .dataframe tbody tr th:only-of-type {\n",
       "        vertical-align: middle;\n",
       "    }\n",
       "\n",
       "    .dataframe tbody tr th {\n",
       "        vertical-align: top;\n",
       "    }\n",
       "\n",
       "    .dataframe thead th {\n",
       "        text-align: right;\n",
       "    }\n",
       "</style>\n",
       "<table border=\"1\" class=\"dataframe\">\n",
       "  <thead>\n",
       "    <tr style=\"text-align: right;\">\n",
       "      <th></th>\n",
       "      <th>image</th>\n",
       "      <th>map</th>\n",
       "    </tr>\n",
       "  </thead>\n",
       "  <tbody>\n",
       "    <tr>\n",
       "      <th>0</th>\n",
       "      <td>/home/rath772k/2dtodepth/2dtodepth/infile/img_...</td>\n",
       "      <td>/home/rath772k/2dtodepth/2dtodepth/outfile/img...</td>\n",
       "    </tr>\n",
       "    <tr>\n",
       "      <th>1</th>\n",
       "      <td>/home/rath772k/2dtodepth/2dtodepth/infile/img_...</td>\n",
       "      <td>/home/rath772k/2dtodepth/2dtodepth/outfile/img...</td>\n",
       "    </tr>\n",
       "    <tr>\n",
       "      <th>2</th>\n",
       "      <td>/home/rath772k/2dtodepth/2dtodepth/infile/img_...</td>\n",
       "      <td>/home/rath772k/2dtodepth/2dtodepth/outfile/img...</td>\n",
       "    </tr>\n",
       "    <tr>\n",
       "      <th>3</th>\n",
       "      <td>/home/rath772k/2dtodepth/2dtodepth/infile/img_...</td>\n",
       "      <td>/home/rath772k/2dtodepth/2dtodepth/outfile/img...</td>\n",
       "    </tr>\n",
       "    <tr>\n",
       "      <th>4</th>\n",
       "      <td>/home/rath772k/2dtodepth/2dtodepth/infile/img_...</td>\n",
       "      <td>/home/rath772k/2dtodepth/2dtodepth/outfile/img...</td>\n",
       "    </tr>\n",
       "  </tbody>\n",
       "</table>\n",
       "</div>"
      ],
      "text/plain": [
       "                                               image  \\\n",
       "0  /home/rath772k/2dtodepth/2dtodepth/infile/img_...   \n",
       "1  /home/rath772k/2dtodepth/2dtodepth/infile/img_...   \n",
       "2  /home/rath772k/2dtodepth/2dtodepth/infile/img_...   \n",
       "3  /home/rath772k/2dtodepth/2dtodepth/infile/img_...   \n",
       "4  /home/rath772k/2dtodepth/2dtodepth/infile/img_...   \n",
       "\n",
       "                                                 map  \n",
       "0  /home/rath772k/2dtodepth/2dtodepth/outfile/img...  \n",
       "1  /home/rath772k/2dtodepth/2dtodepth/outfile/img...  \n",
       "2  /home/rath772k/2dtodepth/2dtodepth/outfile/img...  \n",
       "3  /home/rath772k/2dtodepth/2dtodepth/outfile/img...  \n",
       "4  /home/rath772k/2dtodepth/2dtodepth/outfile/img...  "
      ]
     },
     "execution_count": 115,
     "metadata": {},
     "output_type": "execute_result"
    }
   ],
   "source": [
    "data.head()"
   ]
  },
  {
   "cell_type": "code",
   "execution_count": 135,
   "metadata": {},
   "outputs": [],
   "source": [
    "for _,d in data.iterrows():\n",
    "    assert(d[0],d[1])\n",
    "    cnt+=1\n",
    "        "
   ]
  }
 ],
 "metadata": {
  "kernelspec": {
   "display_name": "Python 3",
   "language": "python",
   "name": "python3"
  },
  "language_info": {
   "codemirror_mode": {
    "name": "ipython",
    "version": 3
   },
   "file_extension": ".py",
   "mimetype": "text/x-python",
   "name": "python",
   "nbconvert_exporter": "python",
   "pygments_lexer": "ipython3",
   "version": "3.7.3"
  }
 },
 "nbformat": 4,
 "nbformat_minor": 2
}
